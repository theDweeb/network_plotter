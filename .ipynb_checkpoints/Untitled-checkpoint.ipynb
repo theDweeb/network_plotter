{
 "cells": [
  {
   "cell_type": "code",
   "execution_count": 2,
   "metadata": {},
   "outputs": [],
   "source": [
    "import numpy as np\n",
    "import pandas as pd\n",
    "import matplotlib.pyplot as plt\n",
    "import csv"
   ]
  },
  {
   "cell_type": "code",
   "execution_count": null,
   "metadata": {},
   "outputs": [],
   "source": [
    "with open('models.csv', 'wb') as csvfile:\n",
    "    filewriter = csv.writer(csvfile, delimiter=',',\n",
    "                            quotechar='|', quoting=csv.QUOTE_MINIMAL)\n",
    "    filewriter.writerow(['Model', 'Parameters', 'FLOPS', 'Top1', 'Top5'])\n",
    "    filewriter.writerow(['MobileNetV2-1', '3.504', '300.79', '72.192', '90.534'])\n",
    "    filewriter.writerow(['MobileNetV2-0.75', '2.636', '209.08', '69.952', '88.986'])\n",
    "    filewriter.writerow(['MobileNetV2-0.50', '1.968', '97.14', '64.592', '85.392'])\n",
    "    filewriter.writerow(['MobileNetV2-0.35', '1.677', '59.29', '60.092', '82.172'])\n",
    "    filewriter.writerow(['EfficientNet-b0', '3.504', '300.79', '72.192', '90.534'])\n",
    "    filewriter.writerow(['EfficientNet-bc1', '3.504', '300.79', '72.192', '90.534'])\n",
    "    filewriter.writerow(['EfficientNet-bc2', '3.504', '300.79', '72.192', '90.534'])\n",
    "    filewriter.writerow(['EfficientNet-bc3', '3.504', '300.79', '72.192', '90.534'])\n"
   ]
  }
 ],
 "metadata": {
  "kernelspec": {
   "display_name": "Python 3",
   "language": "python",
   "name": "python3"
  },
  "language_info": {
   "codemirror_mode": {
    "name": "ipython",
    "version": 3
   },
   "file_extension": ".py",
   "mimetype": "text/x-python",
   "name": "python",
   "nbconvert_exporter": "python",
   "pygments_lexer": "ipython3",
   "version": "3.6.9"
  }
 },
 "nbformat": 4,
 "nbformat_minor": 2
}
